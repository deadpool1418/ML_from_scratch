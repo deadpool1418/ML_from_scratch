{
 "cells": [
  {
   "cell_type": "code",
   "execution_count": 50,
   "metadata": {},
   "outputs": [
    {
     "name": "stdout",
     "output_type": "stream",
     "text": [
      "Enter instanceo,ht,n,f\n",
      "Yes\n"
     ]
    }
   ],
   "source": [
    "import numpy as np\n",
    "import math\n",
    "import matplotlib.pyplot as plt\n",
    "from collections import Counter\n",
    "\n",
    "def train_naive_bayes(X):\n",
    "    ny=X[:,4].tolist().count('yes')\n",
    "    nn=X[:,4].tolist().count('no')\n",
    "    Py=ny/len(X)\n",
    "    Pn=nn/len(X)\n",
    "    d={}\n",
    "    for i in range(4):\n",
    "        l=X[:,i].tolist()\n",
    "        c=Counter(l)\n",
    "        out=c.most_common()\n",
    "        for j in range(len(out)):\n",
    "            a=out[j][0]\n",
    "            d[a]=[0,0]\n",
    "    for i in range(4):\n",
    "        for j in range(len(X)):\n",
    "            if X[j][4]=='yes':\n",
    "                 d[X[j][i]][0]+=1\n",
    "            else:\n",
    "                d[X[j][i]][1]+=1      \n",
    "    for i in d.keys():\n",
    "        if(d[i][0]!=0):\n",
    "            d[i][0]=d[i][0]/ny\n",
    "        if(d[i][1]!=0):\n",
    "            d[i][1]=d[i][1]/nn\n",
    "    return d   \n",
    "\n",
    "def test_instance(test,d):\n",
    "    y,n=1,1\n",
    "    for i in test:\n",
    "        y*=d[i][0]\n",
    "        n*=d[i][1]\n",
    "    y*=Py\n",
    "    n*=Pn\n",
    "    if y<n:\n",
    "        return \"No\"\n",
    "    else:\n",
    "        return \"Yes\"\n",
    "def main():\n",
    "    X=np.array([['s','ht','hi','f','no'],\n",
    "                 ['s','ht','hi','t','no'],\n",
    "                 ['o','ht','hi','f','yes'],\n",
    "                 ['r','m','hi','f','yes'],\n",
    "                 ['r','c','n','f','yes'],\n",
    "                 ['r','c','n','t','no'],\n",
    "                 ['o','c','n','f','yes'],\n",
    "                 ['s','m','hi','f','no'],\n",
    "                 ['s','c','n','f','yes'],\n",
    "                 ['r','m','n','t','yes'],\n",
    "                 ['s','m','n','t','yes'],\n",
    "                 ['o','m','hi','t','yes'],\n",
    "                 ['o','ht','n','f','yes'],\n",
    "                 ['r','m','hi','t','no']])\n",
    "    ny=X[:,4].tolist().count('yes')\n",
    "    nn=X[:,4].tolist().count('no')\n",
    "    d=train_naive_bayes(X)\n",
    "    st=input(\"Enter instance\")\n",
    "    test=st.split(\",\")\n",
    "    print(test_instance(test,d))\n",
    "    \n",
    "if __name__==\"__main__\":\n",
    "    main()"
   ]
  }
 ],
 "metadata": {
  "kernelspec": {
   "display_name": "Python 3",
   "language": "python",
   "name": "python3"
  },
  "language_info": {
   "codemirror_mode": {
    "name": "ipython",
    "version": 3
   },
   "file_extension": ".py",
   "mimetype": "text/x-python",
   "name": "python",
   "nbconvert_exporter": "python",
   "pygments_lexer": "ipython3",
   "version": "3.7.3"
  }
 },
 "nbformat": 4,
 "nbformat_minor": 2
}
