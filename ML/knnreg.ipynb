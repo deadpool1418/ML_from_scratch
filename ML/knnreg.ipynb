{
 "cells": [
  {
   "cell_type": "code",
   "execution_count": 3,
   "metadata": {},
   "outputs": [
    {
     "name": "stdout",
     "output_type": "stream",
     "text": [
      "63.666666666666664\n"
     ]
    },
    {
     "data": {
      "image/png": "[encoded data removed]",
      "text/plain": [
       "<Figure size 432x288 with 1 Axes>"
      ]
     },
     "metadata": {
      "needs_background": "light"
     },
     "output_type": "display_data"
    }
   ],
   "source": [
    "### \n",
    "import numpy as np\n",
    "import math\n",
    "import matplotlib.pyplot as plt\n",
    "\n",
    "def distance(row1,row2):\n",
    "    dis=0\n",
    "    for i in range(len(row1)-1):\n",
    "        dis+=pow((row1[i]-row2[i]),2)\n",
    "    return math.sqrt(dis)\n",
    "\n",
    "def mean(l):\n",
    "    sum=0\n",
    "    for i in range(len(l)):\n",
    "        sum+=l[i][3]\n",
    "    return sum/len(l)\n",
    "\n",
    "def knn(test,data):\n",
    "    d=[]\n",
    "    for i in range(len(data)):\n",
    "        d.append([distance(test,data[i]),data[i][0],data[i][1],data[i][2]])\n",
    "    d.sort()\n",
    "    d=np.array(d)\n",
    "    return d\n",
    "def main():\n",
    "    data=np.array([[5,45,77],[5.11,26,47],[5.6,30,55],[5.9,34,59],[4.8,40,72],[5.8,36,60],[5.3,19,40],[5.8,28,60],[5.5,23,45],[5.6,32,58]])\n",
    "    test=[5.5,38,0]\n",
    "    d=knn(test,data)\n",
    "    print(mean(d[:3]))\n",
    "    plt.scatter(data[:,1],data[:,0])\n",
    "    plt.scatter([38],[5.5])\n",
    "    plt.scatter(d[:3,2],d[:3,1])    \n",
    "    \n",
    "if __name__==\"__main__\":\n",
    "    main()"
   ]
  }
 ],
 "metadata": {
  "kernelspec": {
   "display_name": "Python 3",
   "language": "python",
   "name": "python3"
  },
  "language_info": {
   "codemirror_mode": {
    "name": "ipython",
    "version": 3
   },
   "file_extension": ".py",
   "mimetype": "text/x-python",
   "name": "python",
   "nbconvert_exporter": "python",
   "pygments_lexer": "ipython3",
   "version": "3.7.3"
  }
 },
 "nbformat": 4,
 "nbformat_minor": 2
}
