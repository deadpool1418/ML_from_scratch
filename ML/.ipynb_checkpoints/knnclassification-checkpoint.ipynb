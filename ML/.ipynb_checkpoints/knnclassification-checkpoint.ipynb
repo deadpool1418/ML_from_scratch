{
 "cells": [
  {
   "cell_type": "code",
   "execution_count": 3,
   "metadata": {},
   "outputs": [
    {
     "name": "stdout",
     "output_type": "stream",
     "text": [
      "Accuracy: 0.9666666666666667\n",
      "['Iris-setosa' 'Iris-versicolor' 'Iris-versicolor' 'Iris-setosa'\n",
      " 'Iris-virginica' 'Iris-versicolor' 'Iris-virginica' 'Iris-setosa'\n",
      " 'Iris-setosa' 'Iris-virginica' 'Iris-versicolor' 'Iris-setosa'\n",
      " 'Iris-virginica' 'Iris-versicolor' 'Iris-versicolor' 'Iris-setosa'\n",
      " 'Iris-versicolor' 'Iris-versicolor' 'Iris-setosa' 'Iris-setosa'\n",
      " 'Iris-versicolor' 'Iris-versicolor' 'Iris-virginica' 'Iris-setosa'\n",
      " 'Iris-virginica' 'Iris-versicolor' 'Iris-setosa' 'Iris-setosa'\n",
      " 'Iris-versicolor' 'Iris-virginica']\n"
     ]
    }
   ],
   "source": [
    "from collections import Counter\n",
    "from pandas import read_csv\n",
    "from pandas.plotting import scatter_matrix\n",
    "from matplotlib import pyplot\n",
    "from sklearn.model_selection import train_test_split\n",
    "from sklearn.metrics import accuracy_score\n",
    "import numpy as np\n",
    "import math\n",
    "def main():\n",
    "    url= \"https://raw.githubusercontent.com/jbrownlee/Datasets/master/iris.csv\"\n",
    "    names = ['sepal-length', 'sepal-width', 'petal-length', 'petal-width', 'class']\n",
    "    data=read_csv(url,names=names)\n",
    "    data=np.array(data)\n",
    "    X=data[:,0:4]\n",
    "    y=data[:,4]\n",
    "    X_train,X_test,y_train,y_test=train_test_split(X,y,test_size=0.2,random_state=1)\n",
    "    prediction=predict_using_knn(X_train,y_train,X_test,10)\n",
    "    accuracy=accuracy_score(y_test,prediction)\n",
    "    print(\"Accuracy:\",accuracy)    \n",
    "    print(prediction)\n",
    "    \n",
    "def distance(row1,row2):\n",
    "    dis=0\n",
    "    for i in range(len(row1)-1):\n",
    "        dis+=pow((row1[i]-row2[i]),2)\n",
    "    return math.sqrt(dis)\n",
    "\n",
    "def predict_using_knn(X_train,y_train,X_test,k):\n",
    "    predictions=[]\n",
    "    for i in X_test:\n",
    "        d=[]\n",
    "        for j in range(len(X_train)):\n",
    "            d.append([distance(i,X_train[j]),y_train[j]])\n",
    "        d.sort()\n",
    "        d=np.array(d[:k])\n",
    "        c=Counter(d[:,1])\n",
    "        out=c.most_common()\n",
    "        predictions.append(out[0][0])\n",
    "    return np.array(predictions)\n",
    "\n",
    "if __name__=='__main__':\n",
    "    main()"
   ]
  },
  {
   "cell_type": "code",
   "execution_count": null,
   "metadata": {},
   "outputs": [],
   "source": [
    "-"
   ]
  }
 ],
 "metadata": {
  "kernelspec": {
   "display_name": "Python 3",
   "language": "python",
   "name": "python3"
  },
  "language_info": {
   "codemirror_mode": {
    "name": "ipython",
    "version": 3
   },
   "file_extension": ".py",
   "mimetype": "text/x-python",
   "name": "python",
   "nbconvert_exporter": "python",
   "pygments_lexer": "ipython3",
   "version": "3.7.3"
  }
 },
 "nbformat": 4,
 "nbformat_minor": 2
}
